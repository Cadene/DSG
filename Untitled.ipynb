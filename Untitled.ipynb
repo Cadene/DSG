{
 "cells": [
  {
   "cell_type": "code",
   "execution_count": 2,
   "metadata": {
    "collapsed": true
   },
   "outputs": [],
   "source": [
    "import pandas as pd\n",
    "import numpy as np"
   ]
  },
  {
   "cell_type": "code",
   "execution_count": 3,
   "metadata": {
    "collapsed": true
   },
   "outputs": [],
   "source": [
    "test = pd.read_csv('data/processed/X_test_4.csv')\n",
    "priv = pd.read_csv('data/processed/X_private_4.csv')"
   ]
  },
  {
   "cell_type": "code",
   "execution_count": 6,
   "metadata": {
    "collapsed": false
   },
   "outputs": [
    {
     "data": {
      "text/plain": [
       "Index([u'FirstDriverMaritalStatus_1.0', u'FirstDriverMaritalStatus_2.0',\n",
       "       u'FirstDriverMaritalStatus_3.0', u'FirstDriverMaritalStatus_4.0',\n",
       "       u'FirstDriverMaritalStatus_5.0', u'FirstDriverMaritalStatus_6.0',\n",
       "       u'CarFuelId_1.0', u'CarFuelId_2.0', u'CarUsageId_0.0',\n",
       "       u'CarUsageId_1.0',\n",
       "       ...\n",
       "       u'std_broker_AllDriversNbConvictions',\n",
       "       u'mean_customer_DaysSinceCarPurchase',\n",
       "       u'std_customer_DaysSinceCarPurchase',\n",
       "       u'mean_broker_DaysSinceCarPurchase', u'std_broker_DaysSinceCarPurchase',\n",
       "       u'mean_customer_countSocioDemographicId',\n",
       "       u'std_customer_countSocioDemographicId',\n",
       "       u'mean_broker_countSocioDemographicId',\n",
       "       u'std_broker_countSocioDemographicId', u'countByUser'],\n",
       "      dtype='object', length=142)"
      ]
     },
     "execution_count": 6,
     "metadata": {},
     "output_type": "execute_result"
    }
   ],
   "source": [
    "test.columns"
   ]
  },
  {
   "cell_type": "code",
   "execution_count": 7,
   "metadata": {
    "collapsed": false
   },
   "outputs": [
    {
     "data": {
      "text/plain": [
       "Index([u'FirstDriverMaritalStatus_1.0', u'FirstDriverMaritalStatus_2.0',\n",
       "       u'FirstDriverMaritalStatus_3.0', u'FirstDriverMaritalStatus_4.0',\n",
       "       u'FirstDriverMaritalStatus_5.0', u'FirstDriverMaritalStatus_6.0',\n",
       "       u'CarFuelId_1.0', u'CarFuelId_2.0', u'CarUsageId_0.0',\n",
       "       u'CarUsageId_1.0',\n",
       "       ...\n",
       "       u'std_broker_AllDriversNbConvictions',\n",
       "       u'mean_customer_DaysSinceCarPurchase',\n",
       "       u'std_customer_DaysSinceCarPurchase',\n",
       "       u'mean_broker_DaysSinceCarPurchase', u'std_broker_DaysSinceCarPurchase',\n",
       "       u'mean_customer_countSocioDemographicId',\n",
       "       u'std_customer_countSocioDemographicId',\n",
       "       u'mean_broker_countSocioDemographicId',\n",
       "       u'std_broker_countSocioDemographicId', u'countByUser'],\n",
       "      dtype='object', length=143)"
      ]
     },
     "execution_count": 7,
     "metadata": {},
     "output_type": "execute_result"
    }
   ],
   "source": [
    "priv.columns"
   ]
  },
  {
   "cell_type": "code",
   "execution_count": 10,
   "metadata": {
    "collapsed": false
   },
   "outputs": [],
   "source": [
    "priv.drop(['AffinityCodeId_60.0'], axis=1, inplace=True)"
   ]
  },
  {
   "cell_type": "code",
   "execution_count": 11,
   "metadata": {
    "collapsed": false
   },
   "outputs": [
    {
     "name": "stdout",
     "output_type": "stream",
     "text": [
      "FirstDriverMaritalStatus_1.0 FirstDriverMaritalStatus_1.0\n",
      "FirstDriverMaritalStatus_2.0 FirstDriverMaritalStatus_2.0\n",
      "FirstDriverMaritalStatus_3.0 FirstDriverMaritalStatus_3.0\n",
      "FirstDriverMaritalStatus_4.0 FirstDriverMaritalStatus_4.0\n",
      "FirstDriverMaritalStatus_5.0 FirstDriverMaritalStatus_5.0\n",
      "FirstDriverMaritalStatus_6.0 FirstDriverMaritalStatus_6.0\n",
      "CarFuelId_1.0 CarFuelId_1.0\n",
      "CarFuelId_2.0 CarFuelId_2.0\n",
      "CarUsageId_0.0 CarUsageId_0.0\n",
      "CarUsageId_1.0 CarUsageId_1.0\n",
      "CarUsageId_2.0 CarUsageId_2.0\n",
      "CarUsageId_4.0 CarUsageId_4.0\n",
      "CarParkingTypeId_1.0 CarParkingTypeId_1.0\n",
      "CarParkingTypeId_2.0 CarParkingTypeId_2.0\n",
      "CarParkingTypeId_3.0 CarParkingTypeId_3.0\n",
      "CarParkingTypeId_9.0 CarParkingTypeId_9.0\n",
      "CarParkingTypeId_10.0 CarParkingTypeId_10.0\n",
      "CarParkingTypeId_13.0 CarParkingTypeId_13.0\n",
      "FirstDriverDrivingLicenceType_1.0 FirstDriverDrivingLicenceType_1.0\n",
      "FirstDriverDrivingLicenceType_2.0 FirstDriverDrivingLicenceType_2.0\n",
      "FirstDriverDrivingLicenceType_3.0 FirstDriverDrivingLicenceType_3.0\n",
      "FirstDriverDrivingLicenceType_10.0 FirstDriverDrivingLicenceType_10.0\n",
      "CoverIsNoClaimDiscountSelected_0.0 CoverIsNoClaimDiscountSelected_0.0\n",
      "CoverIsNoClaimDiscountSelected_1.0 CoverIsNoClaimDiscountSelected_1.0\n",
      "CarDrivingEntitlement_1.0 CarDrivingEntitlement_1.0\n",
      "CarDrivingEntitlement_2.0 CarDrivingEntitlement_2.0\n",
      "CarDrivingEntitlement_3.0 CarDrivingEntitlement_3.0\n",
      "CarDrivingEntitlement_4.0 CarDrivingEntitlement_4.0\n",
      "CarDrivingEntitlement_5.0 CarDrivingEntitlement_5.0\n",
      "CarDrivingEntitlement_6.0 CarDrivingEntitlement_6.0\n",
      "CarDrivingEntitlement_8.0 CarDrivingEntitlement_8.0\n",
      "CarTransmissionId_1.0 CarTransmissionId_1.0\n",
      "CarTransmissionId_2.0 CarTransmissionId_2.0\n",
      "IsPolicyholderAHomeowner_0.0 IsPolicyholderAHomeowner_0.0\n",
      "IsPolicyholderAHomeowner_1.0 IsPolicyholderAHomeowner_1.0\n",
      "NameOfPolicyProduct_-9 NameOfPolicyProduct_-9\n",
      "NameOfPolicyProduct_1 NameOfPolicyProduct_1\n",
      "NameOfPolicyProduct_NC NameOfPolicyProduct_NC\n",
      "NameOfPolicyProduct_ND NameOfPolicyProduct_ND\n",
      "NameOfPolicyProduct_NG NameOfPolicyProduct_NG\n",
      "NameOfPolicyProduct_NH NameOfPolicyProduct_NH\n",
      "NameOfPolicyProduct_NI NameOfPolicyProduct_NI\n",
      "NameOfPolicyProduct_NP NameOfPolicyProduct_NP\n",
      "NameOfPolicyProduct_NS NameOfPolicyProduct_NS\n",
      "NameOfPolicyProduct_NT NameOfPolicyProduct_NT\n",
      "NameOfPolicyProduct_NV NameOfPolicyProduct_NV\n",
      "NameOfPolicyProduct_NW NameOfPolicyProduct_NW\n",
      "NameOfPolicyProduct_NX NameOfPolicyProduct_NX\n",
      "NameOfPolicyProduct_NY NameOfPolicyProduct_NY\n",
      "NameOfPolicyProduct_SZ NameOfPolicyProduct_SZ\n",
      "NameOfPolicyProduct_TA NameOfPolicyProduct_TA\n",
      "NameOfPolicyProduct_TL NameOfPolicyProduct_TL\n",
      "CarAnnualMileage CarAnnualMileage\n",
      "FirstDriverAge FirstDriverAge\n",
      "CarInsuredValue CarInsuredValue\n",
      "CarAge CarAge\n",
      "VoluntaryExcess VoluntaryExcess\n",
      "PolicyHolderNoClaimDiscountYears PolicyHolderNoClaimDiscountYears\n",
      "AllDriversNbConvictions AllDriversNbConvictions\n",
      "DaysSinceCarPurchase DaysSinceCarPurchase\n",
      "mean_converted_broker mean_converted_broker\n",
      "sum_converted_broker sum_converted_broker\n",
      "countBySCID countBySCID\n",
      "nbUsersBySCID nbUsersBySCID\n",
      "countSocioDemographicId countSocioDemographicId\n",
      "AffinityCodeId_-1.0 AffinityCodeId_-1.0\n",
      "AffinityCodeId_0.0 AffinityCodeId_0.0\n",
      "AffinityCodeId_3.0 AffinityCodeId_3.0\n",
      "AffinityCodeId_11.0 AffinityCodeId_11.0\n",
      "AffinityCodeId_13.0 AffinityCodeId_13.0\n",
      "AffinityCodeId_14.0 AffinityCodeId_14.0\n",
      "AffinityCodeId_20.0 AffinityCodeId_20.0\n",
      "AffinityCodeId_22.0 AffinityCodeId_22.0\n",
      "AffinityCodeId_23.0 AffinityCodeId_23.0\n",
      "AffinityCodeId_26.0 AffinityCodeId_26.0\n",
      "AffinityCodeId_28.0 AffinityCodeId_28.0\n",
      "AffinityCodeId_29.0 AffinityCodeId_29.0\n",
      "AffinityCodeId_30.0 AffinityCodeId_30.0\n",
      "AffinityCodeId_31.0 AffinityCodeId_31.0\n",
      "AffinityCodeId_38.0 AffinityCodeId_38.0\n",
      "AffinityCodeId_39.0 AffinityCodeId_39.0\n",
      "AffinityCodeId_42.0 AffinityCodeId_42.0\n",
      "AffinityCodeId_43.0 AffinityCodeId_43.0\n",
      "AffinityCodeId_44.0 AffinityCodeId_44.0\n",
      "AffinityCodeId_45.0 AffinityCodeId_45.0\n",
      "AffinityCodeId_46.0 AffinityCodeId_46.0\n",
      "AffinityCodeId_47.0 AffinityCodeId_47.0\n",
      "AffinityCodeId_50.0 AffinityCodeId_50.0\n",
      "AffinityCodeId_51.0 AffinityCodeId_51.0\n",
      "AffinityCodeId_52.0 AffinityCodeId_52.0\n",
      "AffinityCodeId_53.0 AffinityCodeId_53.0\n",
      "AffinityCodeId_54.0 AffinityCodeId_54.0\n",
      "AffinityCodeId_55.0 AffinityCodeId_55.0\n",
      "AffinityCodeId_56.0 AffinityCodeId_56.0\n",
      "AffinityCodeId_57.0 AffinityCodeId_57.0\n",
      "AffinityCodeId_58.0 AffinityCodeId_58.0\n",
      "AffinityCodeId_59.0 AffinityCodeId_59.0\n",
      "AffinityCodeId_61.0 AffinityCodeId_61.0\n",
      "AffinityCodeId_62.0 AffinityCodeId_62.0\n",
      "AffinityCodeId_63.0 AffinityCodeId_63.0\n",
      "scid_category_A scid_category_A\n",
      "scid_category_B scid_category_B\n",
      "scid_category_C scid_category_C\n",
      "mean_std_all_features mean_std_all_features\n",
      "max_std_all_features max_std_all_features\n",
      "mean_customer_CarAnnualMileage mean_customer_CarAnnualMileage\n",
      "std_customer_CarAnnualMileage std_customer_CarAnnualMileage\n",
      "mean_broker_CarAnnualMileage mean_broker_CarAnnualMileage\n",
      "std_broker_CarAnnualMileage std_broker_CarAnnualMileage\n",
      "mean_customer_FirstDriverAge mean_customer_FirstDriverAge\n",
      "std_customer_FirstDriverAge std_customer_FirstDriverAge\n",
      "mean_broker_FirstDriverAge mean_broker_FirstDriverAge\n",
      "std_broker_FirstDriverAge std_broker_FirstDriverAge\n",
      "mean_customer_CarInsuredValue mean_customer_CarInsuredValue\n",
      "std_customer_CarInsuredValue std_customer_CarInsuredValue\n",
      "mean_broker_CarInsuredValue mean_broker_CarInsuredValue\n",
      "std_broker_CarInsuredValue std_broker_CarInsuredValue\n",
      "mean_customer_CarAge mean_customer_CarAge\n",
      "std_customer_CarAge std_customer_CarAge\n",
      "mean_broker_CarAge mean_broker_CarAge\n",
      "std_broker_CarAge std_broker_CarAge\n",
      "mean_customer_VoluntaryExcess mean_customer_VoluntaryExcess\n",
      "std_customer_VoluntaryExcess std_customer_VoluntaryExcess\n",
      "mean_broker_VoluntaryExcess mean_broker_VoluntaryExcess\n",
      "std_broker_VoluntaryExcess std_broker_VoluntaryExcess\n",
      "mean_customer_PolicyHolderNoClaimDiscountYears mean_customer_PolicyHolderNoClaimDiscountYears\n",
      "std_customer_PolicyHolderNoClaimDiscountYears std_customer_PolicyHolderNoClaimDiscountYears\n",
      "mean_broker_PolicyHolderNoClaimDiscountYears mean_broker_PolicyHolderNoClaimDiscountYears\n",
      "std_broker_PolicyHolderNoClaimDiscountYears std_broker_PolicyHolderNoClaimDiscountYears\n",
      "mean_customer_AllDriversNbConvictions mean_customer_AllDriversNbConvictions\n",
      "std_customer_AllDriversNbConvictions std_customer_AllDriversNbConvictions\n",
      "mean_broker_AllDriversNbConvictions mean_broker_AllDriversNbConvictions\n",
      "std_broker_AllDriversNbConvictions std_broker_AllDriversNbConvictions\n",
      "mean_customer_DaysSinceCarPurchase mean_customer_DaysSinceCarPurchase\n",
      "std_customer_DaysSinceCarPurchase std_customer_DaysSinceCarPurchase\n",
      "mean_broker_DaysSinceCarPurchase mean_broker_DaysSinceCarPurchase\n",
      "std_broker_DaysSinceCarPurchase std_broker_DaysSinceCarPurchase\n",
      "mean_customer_countSocioDemographicId mean_customer_countSocioDemographicId\n",
      "std_customer_countSocioDemographicId std_customer_countSocioDemographicId\n",
      "mean_broker_countSocioDemographicId mean_broker_countSocioDemographicId\n",
      "std_broker_countSocioDemographicId std_broker_countSocioDemographicId\n",
      "countByUser countByUser\n"
     ]
    }
   ],
   "source": [
    "for i in range(priv.columns.shape[0]):\n",
    "    print test.columns[i], priv.columns[i]"
   ]
  },
  {
   "cell_type": "code",
   "execution_count": 14,
   "metadata": {
    "collapsed": true
   },
   "outputs": [],
   "source": [
    "import pickle as pck\n",
    "import io"
   ]
  },
  {
   "cell_type": "code",
   "execution_count": 26,
   "metadata": {
    "collapsed": false
   },
   "outputs": [
    {
     "ename": "SyntaxError",
     "evalue": "invalid syntax (<ipython-input-26-88d6ed072427>, line 1)",
     "output_type": "error",
     "traceback": [
      "\u001b[0;36m  File \u001b[0;32m\"<ipython-input-26-88d6ed072427>\"\u001b[0;36m, line \u001b[0;32m1\u001b[0m\n\u001b[0;31m    cld = pck.load(io.open('models/xgboost_4/model_291573421.2_1156.pkl,'rb'))\u001b[0m\n\u001b[0m                                                                          ^\u001b[0m\n\u001b[0;31mSyntaxError\u001b[0m\u001b[0;31m:\u001b[0m invalid syntax\n"
     ]
    }
   ],
   "source": [
    "cld = pck.load(io.open('models/randomforest/,'rb'))\n",
    "                    "
   ]
  },
  {
   "cell_type": "code",
   "execution_count": null,
   "metadata": {
    "collapsed": true
   },
   "outputs": [],
   "source": []
  },
  {
   "cell_type": "code",
   "execution_count": 27,
   "metadata": {
    "collapsed": false
   },
   "outputs": [
    {
     "data": {
      "text/plain": [
       "array([  7.11550170e-02,   7.69929623e-03,   8.08018786e-03,\n",
       "         4.92511735e-03,   5.33963390e-03,   2.35576383e-03,\n",
       "         3.85727749e-04,   8.28174046e-03,   8.93780614e-03,\n",
       "         8.69745890e-03,   5.34129802e-03,   4.84375406e-04,\n",
       "         7.93529271e-03,   6.67749752e-03,   9.88969295e-03,\n",
       "         8.68427493e-03,   2.47715756e-03,   1.67648986e-04,\n",
       "         2.29166569e-04,   9.40711340e-04,   7.13828273e-04,\n",
       "         9.60853258e-05,   6.32531353e-05,   4.85245578e-02,\n",
       "         4.92386767e-02,   9.70757403e-03,   7.77745246e-03,\n",
       "         4.78216031e-03,   6.54277485e-03,   3.35312330e-03,\n",
       "         8.75270589e-04,   2.02444568e-04,   4.44009500e-03,\n",
       "         5.76593843e-03,   7.20578221e-03,   8.10508782e-03,\n",
       "         3.92148765e-05,   8.43391400e-04,   1.69342458e-02,\n",
       "         7.57776973e-04,   1.28424087e-05,   9.72003740e-06,\n",
       "         1.10100890e-05,   1.35901207e-02,   4.15163627e-02,\n",
       "         1.35320745e-03,   1.47131705e-02,   1.31147784e-02,\n",
       "         5.48340142e-03,   6.18153581e-03,   4.01100025e-03,\n",
       "         9.58134977e-03,   7.64969990e-04,   5.30518405e-02,\n",
       "         1.06319756e-01,   5.75841533e-02,   5.53829269e-02,\n",
       "         7.35923079e-02,   9.03323867e-02,   8.74082763e-03,\n",
       "         9.99987321e-02])"
      ]
     },
     "execution_count": 27,
     "metadata": {},
     "output_type": "execute_result"
    }
   ],
   "source": [
    "cld.feature_importances_"
   ]
  },
  {
   "cell_type": "code",
   "execution_count": null,
   "metadata": {
    "collapsed": true
   },
   "outputs": [],
   "source": []
  }
 ],
 "metadata": {
  "kernelspec": {
   "display_name": "Python 2",
   "language": "python",
   "name": "python2"
  },
  "language_info": {
   "codemirror_mode": {
    "name": "ipython",
    "version": 2
   },
   "file_extension": ".py",
   "mimetype": "text/x-python",
   "name": "python",
   "nbconvert_exporter": "python",
   "pygments_lexer": "ipython2",
   "version": "2.7.10"
  }
 },
 "nbformat": 4,
 "nbformat_minor": 0
}
